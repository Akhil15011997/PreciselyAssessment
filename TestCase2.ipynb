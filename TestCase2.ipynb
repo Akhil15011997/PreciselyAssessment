{
 "cells": [
  {
   "cell_type": "code",
   "execution_count": 1,
   "metadata": {},
   "outputs": [],
   "source": [
    "#Installed Selenium library using Run command\n",
    "#Import webdriver and keys\n",
    "from selenium import webdriver\n",
    "from selenium.webdriver.common.by import By\n",
    "from selenium.webdriver.support.ui import WebDriverWait\n",
    "from selenium.webdriver.common.keys import Keys\n",
    "from selenium.webdriver.support import expected_conditions as EC\n",
    "from selenium.webdriver.common.keys import Keys\n",
    "from selenium.common.exceptions import NoSuchElementException\n",
    "from selenium.webdriver.common.action_chains import ActionChains\n",
    "import time"
   ]
  },
  {
   "cell_type": "code",
   "execution_count": 2,
   "metadata": {},
   "outputs": [],
   "source": [
    "#object for chromedriver\n",
    "driver = webdriver.Chrome('C:\\\\Users\\\\akhil\\\\Downloads\\\\chromedriver_win32\\\\chromedriver.exe')"
   ]
  },
  {
   "cell_type": "code",
   "execution_count": 3,
   "metadata": {},
   "outputs": [],
   "source": [
    "#Opening the webpage\n",
    "driver.get(\"https://www.infogix.com/\")\n",
    "driver.get_screenshot_as_file(\"C:\\\\Users\\\\akhil\\\\OneDrive\\\\Desktop\\\\PreciselyAssessment\\\\Test Case 2 Screenshots\\\\1 HomePage.png\")\n",
    "time.sleep(3)\n",
    "driver.maximize_window();\n",
    "time.sleep(2)"
   ]
  },
  {
   "cell_type": "code",
   "execution_count": 4,
   "metadata": {},
   "outputs": [
    {
     "name": "stdout",
     "output_type": "stream",
     "text": [
      "Element exists and clicked\n"
     ]
    }
   ],
   "source": [
    "#Accept Cookies if pop up is shown\n",
    "\n",
    "try:\n",
    "#identify element\n",
    "    CookiesAccept = driver.find_element_by_xpath(\"//div[contains (text(), 'Allow All' )]\")\n",
    "    CookiesAccept.click();\n",
    "    print(\"Element exists and clicked\");\n",
    "#NoSuchElementException thrown if not present\n",
    "except NoSuchElementException:\n",
    "    print(\"Element does not exist; proceeding further\");"
   ]
  },
  {
   "cell_type": "code",
   "execution_count": 5,
   "metadata": {},
   "outputs": [
    {
     "name": "stdout",
     "output_type": "stream",
     "text": [
      "Element exists and clicked\n"
     ]
    }
   ],
   "source": [
    "driver.find_element_by_xpath(\"//a[@class='search-site']\").click();\n",
    "\n",
    "SearchTextBox = driver.find_element_by_xpath(\"//input[@class='searchfor']\")\n",
    "#SearchTextBox.clear()\n",
    "SearchTextBox.send_keys(\"govern\",Keys.RETURN)\n",
    "#SearchTextBox.send_keys(Keys.RETURN)\n",
    "time.sleep(2)\n",
    "\n",
    "#Calling Actions for navigation\n",
    "action = ActionChains(driver)\n",
    "\n",
    "#Selecting the Required element located in the next page\n",
    "#Note1 -- Did not use looping statements here since the element by default is considered to be on the next web page (2nd Search Page)\n",
    "#Note2 -- Also looping statements was not used because if for cases when elements does not exists it would create an infinite loop as when clicked on next page in the last search page it is loading to the first search page options as well\n",
    "driver.find_element_by_xpath(\"//a[contains (text(), 'Next Page' )]\").click()\n",
    "time.sleep(2)\n",
    "\n",
    "Element = driver.find_element_by_xpath(\"//a[contains (text(), 'Building Data Trust with Strategic Data Governance' )]\")\n",
    "if (Element.is_displayed):\n",
    "    action.move_to_element(Element).perform()\n",
    "    driver.get_screenshot_as_file(\"C:\\\\Users\\\\akhil\\\\OneDrive\\\\Desktop\\\\PreciselyAssessment\\\\Test Case 2 Screenshots\\\\2 Required Element.png\")\n",
    "    Element.click();\n",
    "    print(\"Element exists and clicked\");\n",
    "else:\n",
    "    print(\"Element does not exist in this page!!!!!\");\n",
    "    driver.close();\n",
    "\n"
   ]
  },
  {
   "cell_type": "code",
   "execution_count": 6,
   "metadata": {},
   "outputs": [
    {
     "name": "stdout",
     "output_type": "stream",
     "text": [
      "Correct!!\n",
      "https://www.infogix.com/solutions/regulatory-compliance/\n"
     ]
    }
   ],
   "source": [
    "time.sleep(3)\n",
    "RegulatoryCompliance = driver.find_element_by_xpath(\"//a[contains (text(), 'regulatory compliance' )]\")\n",
    "\n",
    "action.move_to_element(RegulatoryCompliance).perform\n",
    "\n",
    "driver.get_screenshot_as_file(\"C:\\\\Users\\\\akhil\\\\OneDrive\\\\Desktop\\\\PreciselyAssessment\\\\Test Case 2 Screenshots\\\\3 regulatory compliance.png\")\n",
    "\n",
    "ElementCheck = \"https://www.infogix.com/solutions/regulatory-compliance/\";\n",
    "\n",
    "if (RegulatoryCompliance.get_attribute('href') == ElementCheck):\n",
    "    print(\"Correct!!\")\n",
    "    print(RegulatoryCompliance.get_attribute('href'))\n",
    "else:\n",
    "    print(\"Link is not Correct!!!\")"
   ]
  },
  {
   "cell_type": "code",
   "execution_count": 7,
   "metadata": {},
   "outputs": [],
   "source": [
    "#Closing the Chromedriver\n",
    "driver.close()"
   ]
  },
  {
   "cell_type": "code",
   "execution_count": null,
   "metadata": {},
   "outputs": [],
   "source": []
  }
 ],
 "metadata": {
  "kernelspec": {
   "display_name": "Python 3",
   "language": "python",
   "name": "python3"
  },
  "language_info": {
   "codemirror_mode": {
    "name": "ipython",
    "version": 3
   },
   "file_extension": ".py",
   "mimetype": "text/x-python",
   "name": "python",
   "nbconvert_exporter": "python",
   "pygments_lexer": "ipython3",
   "version": "3.8.3"
  }
 },
 "nbformat": 4,
 "nbformat_minor": 4
}
