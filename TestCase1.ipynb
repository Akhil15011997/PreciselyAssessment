{
 "cells": [
  {
   "cell_type": "code",
   "execution_count": 1,
   "metadata": {},
   "outputs": [],
   "source": [
    "#Installed Selenium library using Run command\n",
    "#Import webdriver and keys\n",
    "from selenium import webdriver\n",
    "from selenium.webdriver.common.by import By\n",
    "from selenium.webdriver.support.ui import WebDriverWait\n",
    "from selenium.webdriver.support import expected_conditions as EC\n",
    "from selenium.webdriver.common.keys import Keys\n",
    "from selenium.common.exceptions import NoSuchElementException\n",
    "from selenium.webdriver.common.action_chains import ActionChains\n",
    "import time"
   ]
  },
  {
   "cell_type": "code",
   "execution_count": 2,
   "metadata": {},
   "outputs": [],
   "source": [
    "#object for chromedriver\n",
    "driver = webdriver.Chrome('C:\\\\Users\\\\akhil\\\\Downloads\\\\chromedriver_win32\\\\chromedriver.exe')"
   ]
  },
  {
   "cell_type": "code",
   "execution_count": 3,
   "metadata": {},
   "outputs": [],
   "source": [
    "#Opening the webpage\n",
    "driver.get(\"https://www.infogix.com/\")\n",
    "driver.get_screenshot_as_file(\"C:\\\\Users\\\\akhil\\\\OneDrive\\\\Desktop\\\\PreciselyAssessment\\\\Test Case 1 Screenshots\\\\HomePage.png\")\n",
    "time.sleep(5)\n",
    "driver.maximize_window();"
   ]
  },
  {
   "cell_type": "code",
   "execution_count": 4,
   "metadata": {},
   "outputs": [
    {
     "name": "stdout",
     "output_type": "stream",
     "text": [
      "Element exists and clicked\n"
     ]
    }
   ],
   "source": [
    "#Accept Cookies if pop up is shown\n",
    "\n",
    "try:\n",
    "#identify element\n",
    "    CookiesAccept = driver.find_element_by_xpath(\"//div[contains (text(), 'Allow All' )]\")\n",
    "    CookiesAccept.click();\n",
    "    print(\"Element exists and clicked\");\n",
    "#NoSuchElementException thrown if not present\n",
    "except NoSuchElementException:\n",
    "    print(\"Element does not exist; proceeding further\");"
   ]
  },
  {
   "cell_type": "code",
   "execution_count": 5,
   "metadata": {},
   "outputs": [
    {
     "name": "stdout",
     "output_type": "stream",
     "text": [
      "Contacts Webpage Loaded\n"
     ]
    }
   ],
   "source": [
    "#Navigating to Contacts Page\n",
    "driver.find_element_by_xpath(\"(//a[contains (text(), 'Contact')])[1]\").click();\n",
    "wait = WebDriverWait(driver, 10)\n",
    "#Checking if webpage loaded properly\n",
    "try:\n",
    "    ContactWebpageText= wait.until(EC.visibility_of_element_located((By.XPATH, \"//h4[contains (text(), 'Connect with Infogix' )]\")))\n",
    "    driver.get_screenshot_as_file(\"C:\\\\Users\\\\akhil\\\\OneDrive\\\\Desktop\\\\PreciselyAssessment\\\\Test Case 1 Screenshots\\\\ContactsWebPage.png\")\n",
    "    print(\"Contacts Webpage Loaded\");\n",
    "    time.sleep(2)\n",
    "except NoSuchElementException:\n",
    "    print(\"Webpage did not load properly. Closing the session\");\n",
    "    driver.close()"
   ]
  },
  {
   "cell_type": "code",
   "execution_count": 6,
   "metadata": {},
   "outputs": [],
   "source": [
    "#Entering the required details\n",
    "#FirstName\n",
    "firstName = driver.find_element_by_xpath(\"//input[@id='FirstName']\")\n",
    "firstName.clear()\n",
    "firstName.send_keys(\"Test First Name\")\n",
    "time.sleep(2)\n",
    "#LastName\n",
    "LastName = driver.find_element_by_xpath(\"//input[@id='LastName']\")\n",
    "LastName.clear()\n",
    "LastName.send_keys(\"Test Last Name\")\n",
    "time.sleep(2)\n",
    "#Email\n",
    "Email = driver.find_element_by_xpath(\"//input[@id='Email']\")\n",
    "Email.clear()\n",
    "Email.send_keys(\"TestName@yahoo.com\")\n",
    "time.sleep(2)\n",
    "#Company\n",
    "Company = driver.find_element_by_xpath(\"//input[@id='Company']\")\n",
    "Company.clear()\n",
    "Company.send_keys(\"Infogix HR\")\n",
    "time.sleep(2)\n",
    "#Phone\n",
    "Phone = driver.find_element_by_xpath(\"//input[@id='Phone']\")\n",
    "Phone.clear()\n",
    "Phone.send_keys(\"0112312987\")\n",
    "time.sleep(2)\n",
    "#CountrySelection\n",
    "driver.find_element_by_xpath(\"//select[@id='HQ_Location_Country__c']\").click();\n",
    "#\"America\" option does not exists in the dropdown, attached screenshot as well. Therefore Selecting Another Country\n",
    "CountryOption = driver.find_element_by_xpath(\"//option[@value='Ireland']\").click();\n",
    "time.sleep(2)\n",
    "#actions = ActionChains(driver)\n",
    "#actions.move_to_element(CountryOption).perform().click();\n",
    "#SelectingIndustry\n",
    "driver.find_element_by_xpath(\"//select[@id='Industry__c']\").click();\n",
    "CountryOption = driver.find_element_by_xpath(\"//option[@value='Media & Communication']\").click();\n",
    "time.sleep(2)\n",
    "#Comments\n",
    "Comments = driver.find_element_by_xpath(\"//textarea[@id='Next_Step_Comments__c']\")\n",
    "Comments.clear()\n",
    "Comments.send_keys(\"This is a coding challenge for Test Automation position. Please disregard this message\")\n",
    "time.sleep(2)\n",
    "#Agreeing to T&C\n",
    "driver.find_element_by_xpath(\"(//label[@id='LblConsent_to_Processing__c'])[1]\").click();\n",
    "time.sleep(2)"
   ]
  },
  {
   "cell_type": "code",
   "execution_count": 7,
   "metadata": {},
   "outputs": [],
   "source": [
    "#Submitting the form\n",
    "driver.get_screenshot_as_file(\"C:\\\\Users\\\\akhil\\\\OneDrive\\\\Desktop\\\\PreciselyAssessment\\\\Test Case 1 Screenshots\\\\DetailsEntered.png\")\n",
    "driver.find_element_by_xpath(\"//button[contains(text(),'Submit')]\").click();\n",
    "time.sleep(10)"
   ]
  },
  {
   "cell_type": "code",
   "execution_count": 8,
   "metadata": {},
   "outputs": [
    {
     "name": "stdout",
     "output_type": "stream",
     "text": [
      "Element exists. Form submitted successfully\n"
     ]
    }
   ],
   "source": [
    "#Checking for thank you message\n",
    "\n",
    "if (driver.find_element_by_xpath(\"//h1[contains(text(),'Thank You!')]\").is_displayed): \n",
    "    driver.get_screenshot_as_file(\"C:\\\\Users\\\\akhil\\\\OneDrive\\\\Desktop\\\\PreciselyAssessment\\\\Test Case 1 Screenshots\\\\ThankYouScreen.png\")\n",
    "    print(\"Element exists. Form submitted successfully\");\n",
    "else:\n",
    "    print(\"Thank you screen is not shown!!!!\");"
   ]
  },
  {
   "cell_type": "code",
   "execution_count": 9,
   "metadata": {},
   "outputs": [],
   "source": [
    "#Closing the Chromedriver\n",
    "driver.close()"
   ]
  },
  {
   "cell_type": "code",
   "execution_count": null,
   "metadata": {},
   "outputs": [],
   "source": []
  }
 ],
 "metadata": {
  "kernelspec": {
   "display_name": "Python 3",
   "language": "python",
   "name": "python3"
  },
  "language_info": {
   "codemirror_mode": {
    "name": "ipython",
    "version": 3
   },
   "file_extension": ".py",
   "mimetype": "text/x-python",
   "name": "python",
   "nbconvert_exporter": "python",
   "pygments_lexer": "ipython3",
   "version": "3.8.3"
  }
 },
 "nbformat": 4,
 "nbformat_minor": 4
}
